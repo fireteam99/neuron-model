{
 "cells": [
  {
   "cell_type": "code",
   "execution_count": 1,
   "metadata": {},
   "outputs": [],
   "source": [
    "import scipy as sp\n",
    "import pylab as plt\n",
    "from scipy.integrate import odeint"
   ]
  },
  {
   "cell_type": "code",
   "execution_count": 10,
   "metadata": {},
   "outputs": [
    {
     "ename": "IndentationError",
     "evalue": "unexpected unindent (<ipython-input-10-f6e407ee09b5>, line 57)",
     "output_type": "error",
     "traceback": [
      "\u001b[1;36m  File \u001b[1;32m\"<ipython-input-10-f6e407ee09b5>\"\u001b[1;36m, line \u001b[1;32m57\u001b[0m\n\u001b[1;33m    def compute_derivs(X, t, self):\u001b[0m\n\u001b[1;37m                                   ^\u001b[0m\n\u001b[1;31mIndentationError\u001b[0m\u001b[1;31m:\u001b[0m unexpected unindent\n"
     ]
    }
   ],
   "source": [
    "# full Hodgkin-Huxley model\n",
    "# membrane capacitance (uF/cm^2)\n",
    "C_m  =   1.0 \n",
    "    \n",
    "#constants for Na\n",
    "g_Na = 120.0\n",
    "E_Na =  50.0\n",
    "\n",
    "#constants for K\n",
    "g_K  =  36.0\n",
    "E_K  = -77.0\n",
    "\n",
    "#constants for leak\n",
    "g_L  =   0.3\n",
    "E_L  = -54.387\n",
    "\n",
    "\n",
    "#time we'll be integrating over. We'll be operating over 450 ms with a step size of 0.01.\n",
    "t = sp.arange(0.0, 450.0, 0.01)\n",
    "\n",
    "\n",
    "#functions for rate constants of ion channels\n",
    "def alpha_m(self, V):\n",
    "    return 0.1*(V+40.0)/(1.0 - sp.exp(-(V+40.0) / 10.0))\n",
    "\n",
    "def beta_m(self, V):\n",
    "    return 4.0*sp.exp(-(V+65.0) / 18.0)\n",
    "\n",
    "def alpha_h(self, V):\n",
    "    return 0.07*sp.exp(-(V+65.0) / 20.0)\n",
    "\n",
    "def beta_h(self, V):\n",
    "    return 1.0/(1.0 + sp.exp(-(V+35.0) / 10.0))\n",
    "\n",
    "def alpha_n(self, V):\n",
    "    return 0.01*(V+55.0)/(1.0 - sp.exp(-(V+55.0) / 10.0))\n",
    "\n",
    "def beta_n(self, V):\n",
    "    return 0.125*sp.exp(-(V+65) / 80.0)\n",
    "\n",
    "#functions for computing current through membranes\n",
    "def I_Na(self, V, m, h):\n",
    "    return self.g_Na * m**3 * h * (V - self.E_Na)\n",
    "\n",
    "def I_K(self, V, n):\n",
    "    return self.g_K  * n**4 * (V - self.E_K)\n",
    "\n",
    "def I_L(self, V):\n",
    "    return self.g_L * (V - self.E_L)\n",
    "\n",
    "#input injection function\n",
    "def I_inject(self, t):\n",
    "    return 10*(t>100) - 10*(t>200) + 35*(t>300) - 35*(t>400)\n",
    "\n",
    "#computes derivatives of activation variables\n",
    "    @staticmethod\n",
    "def compute_derivs(X, t, self):\n",
    "    V, m, h, n = X\n",
    "    dVdt = (self.inject_I(t) - self.I_Na(V, m, h) - self.I_K(V, n) - self.I_L(V)) / self.C_m\n",
    "    dmdt = self.alpha_m(V)*(1.0-m) - self.beta_m(V)*m\n",
    "    dhdt = self.alpha_h(V)*(1.0-h) - self.beta_h(V)*h\n",
    "    dndt = self.alpha_n(V)*(1.0-n) - self.beta_n(V)*n\n",
    "    return dVdt, dmdt, dhdt, dndt"
   ]
  },
  {
   "cell_type": "code",
   "execution_count": null,
   "metadata": {},
   "outputs": [],
   "source": []
  }
 ],
 "metadata": {
  "kernelspec": {
   "display_name": "Python 3",
   "language": "python",
   "name": "python3"
  },
  "language_info": {
   "codemirror_mode": {
    "name": "ipython",
    "version": 3
   },
   "file_extension": ".py",
   "mimetype": "text/x-python",
   "name": "python",
   "nbconvert_exporter": "python",
   "pygments_lexer": "ipython3",
   "version": "3.6.9"
  }
 },
 "nbformat": 4,
 "nbformat_minor": 2
}
