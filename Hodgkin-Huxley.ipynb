{
 "cells": [
  {
   "cell_type": "code",
   "execution_count": 1,
   "metadata": {},
   "outputs": [],
   "source": [
    "import scipy as sp\n",
    "import pylab as plt\n",
    "from scipy.integrate import odeint"
   ]
  },
  {
   "cell_type": "code",
   "execution_count": 2,
   "metadata": {},
   "outputs": [],
   "source": [
    "# full Hodgkin-Huxley model\n",
    "# membrane capacitance (uF/cm^2)\n",
    "C_m  =   1.0 \n",
    "    \n",
    "#constants for Na\n",
    "g_Na = 120.0\n",
    "E_Na =  50.0\n",
    "\n",
    "#constants for K\n",
    "g_K  =  36.0\n",
    "E_K  = -77.0\n",
    "\n",
    "#constants for leak\n",
    "g_L  =   0.3\n",
    "E_L  = -54.387\n",
    "\n",
    "\n",
    "#time we'll be integrating over. We'll be operating over 450 ms with a step size of 0.01.\n",
    "t = sp.arange(0.0, 450.0, 0.01)\n",
    "\n",
    "\n",
    "#functions for rate constants of ion channels\n",
    "def alpha_m(V):\n",
    "    return 0.1*(V+40.0)/(1.0 - sp.exp(-(V+40.0) / 10.0))\n",
    "\n",
    "def beta_m(V):\n",
    "    return 4.0*sp.exp(-(V+65.0) / 18.0)\n",
    "\n",
    "def alpha_h(V):\n",
    "    return 0.07*sp.exp(-(V+65.0) / 20.0)\n",
    "\n",
    "def beta_h(V):\n",
    "    return 1.0/(1.0 + sp.exp(-(V+35.0) / 10.0))\n",
    "\n",
    "def alpha_n(V):\n",
    "    return 0.01*(V+55.0)/(1.0 - sp.exp(-(V+55.0) / 10.0))\n",
    "\n",
    "def beta_n(V):\n",
    "    return 0.125*sp.exp(-(V+65) / 80.0)\n",
    "\n",
    "#functions for computing current through membranes\n",
    "def I_Na(V, m, h):\n",
    "    return g_Na * m**3 * h * (V - E_Na)\n",
    "\n",
    "def I_K(V, n):\n",
    "    return g_K  * n**4 * (V - E_K)\n",
    "\n",
    "def I_L(V):\n",
    "    return g_L * (V - E_L)\n",
    "\n",
    "#input injection function\n",
    "def inject_I(t):\n",
    "    return 10*(t>100) - 10*(t>200) + 35*(t>300) - 35*(t>400)\n",
    "\n",
    "#computes derivatives of activation variables\n",
    "def compute_derivs(X, t):\n",
    "    V, m, h, n = X\n",
    "    dVdt = (inject_I(t) - I_Na(V, m, h) - I_K(V, n) - I_L(V)) / C_m\n",
    "    dmdt = alpha_m(V)*(1.0-m) - beta_m(V)*m\n",
    "    dhdt = alpha_h(V)*(1.0-h) - beta_h(V)*h\n",
    "    dndt = alpha_n(V)*(1.0-n) - beta_n(V)*n\n",
    "    return dVdt, dmdt, dhdt, dndt"
   ]
  },
  {
   "cell_type": "code",
   "execution_count": 3,
   "metadata": {},
   "outputs": [
    {
     "data": {
      "text/plain": [
       "Text(0, 0.5, 'V (mV)')"
      ]
     },
     "execution_count": 3,
     "metadata": {},
     "output_type": "execute_result"
    },
    {
     "data": {
      "image/png": "[encoded data removed]",
      "text/plain": [
       "<Figure size 432x288 with 1 Axes>"
      ]
     },
     "metadata": {
      "needs_background": "light"
     },
     "output_type": "display_data"
    }
   ],
   "source": [
    "X = odeint(compute_derivs, [-65, 0.05, 0.6, 0.32], t)\n",
    "V = X[:,0]\n",
    "m = X[:,1]\n",
    "h = X[:,2]\n",
    "n = X[:,3]\n",
    "ina = I_Na(V, m, h)\n",
    "ik = I_K(V, n)\n",
    "il = I_L(V)\n",
    "\n",
    "plt.figure()\n",
    "\n",
    "plt.subplot(4,1,1)\n",
    "plt.title('Hodgkin-Huxley Neuron')\n",
    "plt.plot(t, V, 'k')\n",
    "plt.ylabel('V (mV)')"
   ]
  },
  {
   "cell_type": "code",
   "execution_count": null,
   "metadata": {},
   "outputs": [],
   "source": []
  }
 ],
 "metadata": {
  "kernelspec": {
   "display_name": "Python 3",
   "language": "python",
   "name": "python3"
  },
  "language_info": {
   "codemirror_mode": {
    "name": "ipython",
    "version": 3
   },
   "file_extension": ".py",
   "mimetype": "text/x-python",
   "name": "python",
   "nbconvert_exporter": "python",
   "pygments_lexer": "ipython3",
   "version": "3.6.9"
  }
 },
 "nbformat": 4,
 "nbformat_minor": 2
}
